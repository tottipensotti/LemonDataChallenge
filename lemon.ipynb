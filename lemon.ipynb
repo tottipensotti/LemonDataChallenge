{
  "nbformat": 4,
  "nbformat_minor": 0,
  "metadata": {
    "colab": {
      "name": "lemon_attempt_5.ipynb",
      "provenance": []
    },
    "kernelspec": {
      "name": "python3",
      "display_name": "Python 3"
    },
    "language_info": {
      "name": "python"
    }
  },
  "cells": [
    {
      "cell_type": "markdown",
      "source": [
        "Configuración inicial"
      ],
      "metadata": {
        "id": "qesn_gWgyY2c"
      }
    },
    {
      "cell_type": "code",
      "source": [
        "from pyspark.sql import SparkSession\n",
        "from pyspark.sql import functions as f\n",
        "\n",
        "spark = SparkSession.builder \\\n",
        "  .master('local') \\\n",
        "  .appName('Lemon Data Challenge') \\\n",
        "  .config('spark.some.config.option', 'some.value') \\\n",
        "  .getOrCreate()"
      ],
      "metadata": {
        "id": "i_ERETR4oTjn"
      },
      "execution_count": 2,
      "outputs": []
    },
    {
      "cell_type": "code",
      "source": [
        "rates = spark.read.csv('rates.csv', header = True)\n",
        "transactions = spark.read.csv('transactions.csv', header = True)\n",
        "users = spark.read.csv('users.csv', header = True)"
      ],
      "metadata": {
        "id": "eK8zXDtLoYOi"
      },
      "execution_count": 3,
      "outputs": []
    },
    {
      "cell_type": "code",
      "source": [
        "rates.show()\n",
        "transactions.show()\n",
        "users.show()"
      ],
      "metadata": {
        "colab": {
          "base_uri": "https://localhost:8080/"
        },
        "id": "qvVe8oB-ogU9",
        "outputId": "0d792144-f67e-4920-c93c-1190355adf4d"
      },
      "execution_count": 4,
      "outputs": [
        {
          "output_type": "stream",
          "name": "stdout",
          "text": [
            "+-------------+--------------+--------------+\n",
            "|base_currency|quote_currency|         price|\n",
            "+-------------+--------------+--------------+\n",
            "|          UST|          USDT|    1.00000000|\n",
            "|         SAND|           BTC|    0.00006944|\n",
            "|         USDC|          USDT|    0.99980000|\n",
            "|          UNI|           BTC|    0.00023050|\n",
            "|          ADA|           ETH|    0.00032330|\n",
            "|         LUNA|           ETH|    0.02965000|\n",
            "|          SOL|           ETH|    0.03499000|\n",
            "|          SOL|           BTC|    0.00265530|\n",
            "|          SOL|          USDT|  113.31000000|\n",
            "|          ETH|           BTC|    0.07587900|\n",
            "|          BTC|          USDC|42663.01000000|\n",
            "|          SLP|          USDT|    0.01980000|\n",
            "|          DOT|           ETH|    0.00612100|\n",
            "|          ETH|           DAI| 3237.70000000|\n",
            "|          ADA|           BTC|    0.00002453|\n",
            "|          SOL|          USDC|  113.31000000|\n",
            "|         SAND|          USDT|    2.96240000|\n",
            "|          AXS|           ETH|    0.01598000|\n",
            "|          BTC|           DAI|42666.11000000|\n",
            "|          DOT|          USDT|   19.83000000|\n",
            "+-------------+--------------+--------------+\n",
            "only showing top 20 rows\n",
            "\n",
            "+--------------------+-------+-------------+-----+--------------+------------------+--------+-------------------+\n",
            "|                  id|user_id|       amount|state|operation_type|  transaction_type|currency|          createdat|\n",
            "+--------------------+-------+-------------+-----+--------------+------------------+--------+-------------------+\n",
            "|00024dce-8d40-4ae...|3222205| 100.02000000| DONE|        CREDIT|       CRYPTO_SALE|   MONEY|2022-03-03T14:36:05|\n",
            "|002da6df-ab3d-46a...|1058316|1060.00000000| DONE|         DEBIT|LEMON_CARD_PAYMENT|   MONEY|2022-03-20T22:17:37|\n",
            "|0035b8cf-d08e-4a3...|3245984| 349.27000000| DONE|        CREDIT|       CRYPTO_SALE|   MONEY|2022-01-21T06:10:52|\n",
            "|0078c4a7-83ec-4a7...|4430720|1440.00000000| DONE|         DEBIT|LEMON_CARD_PAYMENT|   MONEY|2022-03-16T12:52:18|\n",
            "|0085edff-1129-424...|3193610| 100.00000000| DONE|         DEBIT|   CRYPTO_PURCHASE|   MONEY|2022-02-10T19:22:23|\n",
            "|00ffd51e-3f84-46b...|2393552|   0.00015365| DONE|         DEBIT|       CRYPTO_SALE|     BTC|2022-02-05T13:47:21|\n",
            "|0103abf2-88ab-4fe...|2695455|   0.00021889| DONE|         DEBIT|       CRYPTO_SALE|     ETH|2022-01-14T03:03:36|\n",
            "|010c4654-1ed5-45b...|3873268|  35.88750000| DONE|        CREDIT|   CRYPTO_PURCHASE|     DAI|2022-03-04T00:52:03|\n",
            "|011e925e-8d22-499...| 508389|1000.00000000| DONE|        CREDIT|   VIRTUAL_DEPOSIT|   MONEY|2022-03-25T03:44:02|\n",
            "|01394fef-e673-45f...| 901194|1000.00000000| DONE|        CREDIT|   VIRTUAL_DEPOSIT|   MONEY|2021-11-04T22:18:18|\n",
            "|013f562a-893c-435...|3655645|   0.00065334| DONE|         DEBIT|       CRYPTO_SALE|     ETH|2022-03-28T10:55:58|\n",
            "|01437e23-19c5-43a...|1698242| 240.00000000| DONE|         DEBIT|LEMON_CARD_PAYMENT|   MONEY|2022-03-02T15:04:23|\n",
            "|0198d43a-9477-48e...|3535546|5000.00000000| DONE|         DEBIT|LEMON_CARD_PAYMENT|   MONEY|2022-02-04T21:30:12|\n",
            "|01b7e8d5-97ac-458...|1698242|4816.99000000| DONE|         DEBIT|LEMON_CARD_PAYMENT|   MONEY|2022-02-15T15:02:46|\n",
            "|01e1a090-6647-4c9...|3172540|   0.00033036| DONE|         DEBIT|       CRYPTO_SALE|     BTC|2022-01-27T02:00:13|\n",
            "|02091c5f-f720-41f...| 846713|1410.00000000| DONE|         DEBIT|LEMON_CARD_PAYMENT|   MONEY|2022-03-20T02:35:47|\n",
            "|020fcc67-069c-40e...|3528924| 800.00000000| DONE|        CREDIT|   VIRTUAL_DEPOSIT|   MONEY|2022-03-09T01:44:53|\n",
            "|02199138-7358-4b6...|1470385| 300.00000000| DONE|         DEBIT|LEMON_CARD_PAYMENT|   MONEY|2022-02-15T20:55:29|\n",
            "|025a9390-196e-464...|1698242|4690.00000000| DONE|         DEBIT|LEMON_CARD_PAYMENT|   MONEY|2022-02-25T00:12:45|\n",
            "|02602a3c-7ffd-431...|4181191|  25.00000000| DONE|         DEBIT|       CRYPTO_SALE|    USDT|2022-03-02T12:21:04|\n",
            "+--------------------+-------+-------------+-----+--------------+------------------+--------+-------------------+\n",
            "only showing top 20 rows\n",
            "\n",
            "+--------+------+----------+-------------------+\n",
            "| user_id|gender| birthdate|          createdat|\n",
            "+--------+------+----------+-------------------+\n",
            "|12589454|     m|1994-12-28|2021-12-17T19:19:32|\n",
            "|13899793|     m|2000-12-27|2021-12-23T20:46:01|\n",
            "|37822327|     f|1981-04-13|2022-04-05T22:58:43|\n",
            "| 9226596|     m|1992-11-13|2021-12-01T14:06:38|\n",
            "| 8886810|     m|1995-04-04|2021-11-29T19:06:23|\n",
            "| 1631850|     f|2000-12-13|2021-06-10T22:07:19|\n",
            "|25642319|     m|1979-02-16|2022-02-15T16:22:33|\n",
            "|20202088|     m|1993-10-25|2022-01-22T18:14:06|\n",
            "| 9084309|     m|1992-01-20|2021-11-30T19:02:44|\n",
            "|18669267|     m|1980-06-24|2022-01-15T14:42:43|\n",
            "|11400676|     m|1971-10-17|2021-12-13T14:06:53|\n",
            "| 6994724|     f|2000-06-30|2021-11-15T00:19:19|\n",
            "|28436674|     f|1979-10-20|2022-02-28T00:05:53|\n",
            "|11157038|     m|1984-05-18|2021-12-11T23:21:48|\n",
            "|10202395|     m|1997-07-11|2021-12-07T01:04:45|\n",
            "|27221924|     m|1999-12-23|2022-02-21T02:26:27|\n",
            "|29900652|     m|1994-09-16|2022-03-04T11:58:16|\n",
            "| 3764865|     f|1997-06-18|2021-09-26T14:41:26|\n",
            "|28669605|     m|1982-03-20|2022-03-01T15:37:02|\n",
            "|21110850|     m|2000-11-30|2022-01-26T23:42:15|\n",
            "+--------+------+----------+-------------------+\n",
            "only showing top 20 rows\n",
            "\n"
          ]
        }
      ]
    },
    {
      "cell_type": "markdown",
      "source": [
        "# **CHURN**"
      ],
      "metadata": {
        "id": "4uZ9HVHiokiE"
      }
    },
    {
      "cell_type": "markdown",
      "source": [
        "Transacciones Febrero"
      ],
      "metadata": {
        "id": "1MPT144tpE47"
      }
    },
    {
      "cell_type": "code",
      "source": [
        "transactions.createTempView('transacciones_feb')"
      ],
      "metadata": {
        "id": "_Jrw9ff0oi8v"
      },
      "execution_count": 5,
      "outputs": []
    },
    {
      "cell_type": "code",
      "source": [
        "dates = \"DATE(createdat) >= '2022-02-01' AND DATE(createdat) < '2022-03-01'\"\n",
        "transacciones_febrero = spark.sql(f'SELECT DISTINCT(user_id) AS user_id FROM transacciones_feb WHERE {dates}')"
      ],
      "metadata": {
        "id": "KMXzTerDopq3"
      },
      "execution_count": 8,
      "outputs": []
    },
    {
      "cell_type": "markdown",
      "source": [
        "Transacciones Marzo"
      ],
      "metadata": {
        "id": "bLoMvMIhpGjr"
      }
    },
    {
      "cell_type": "code",
      "source": [
        "transactions.createTempView('transacciones_mar')"
      ],
      "metadata": {
        "id": "kV5iToxeoxER"
      },
      "execution_count": 9,
      "outputs": []
    },
    {
      "cell_type": "code",
      "source": [
        "dates = \"DATE(createdat) >= '2022-03-01' AND DATE(createdat) < '2022-04-01'\"\n",
        "transacciones_marzo = spark.sql(f'SELECT DISTINCT(user_id) AS user_id FROM transacciones_mar WHERE {dates}')"
      ],
      "metadata": {
        "id": "3g1HqBaJoyPO"
      },
      "execution_count": 10,
      "outputs": []
    },
    {
      "cell_type": "markdown",
      "source": [
        "Usuarios que realizaron transacción en Febrero pero no en Marzo"
      ],
      "metadata": {
        "id": "nvkTXFDxpIDL"
      }
    },
    {
      "cell_type": "code",
      "source": [
        "transacciones_febrero.createTempView('trans_feb')\n",
        "transacciones_marzo.createTempView('trans_mar')"
      ],
      "metadata": {
        "id": "WIzjCnwWvg3_"
      },
      "execution_count": 11,
      "outputs": []
    },
    {
      "cell_type": "code",
      "source": [
        "usuarios_churn = spark.sql(\"SELECT user_id FROM trans_feb WHERE user_id NOT IN (SELECT user_id FROM trans_mar)\").count()\n",
        "usuarios_churn"
      ],
      "metadata": {
        "colab": {
          "base_uri": "https://localhost:8080/"
        },
        "id": "8yrfwc92xykL",
        "outputId": "5c94e20f-5ac8-46a0-e637-3c4fed3a28d1"
      },
      "execution_count": 12,
      "outputs": [
        {
          "output_type": "execute_result",
          "data": {
            "text/plain": [
              "48"
            ]
          },
          "metadata": {},
          "execution_count": 12
        }
      ]
    },
    {
      "cell_type": "markdown",
      "source": [
        "CHURN"
      ],
      "metadata": {
        "id": "94o9nSjgpO9Y"
      }
    },
    {
      "cell_type": "code",
      "source": [
        "churn = usuarios_churn / transacciones_marzo.count()\n",
        "churn"
      ],
      "metadata": {
        "colab": {
          "base_uri": "https://localhost:8080/"
        },
        "id": "oe2kXP3spRp-",
        "outputId": "519fc70a-198b-4c6c-b9d2-15c3a3291ec2"
      },
      "execution_count": 13,
      "outputs": [
        {
          "output_type": "execute_result",
          "data": {
            "text/plain": [
              "0.1875"
            ]
          },
          "metadata": {},
          "execution_count": 13
        }
      ]
    },
    {
      "cell_type": "code",
      "source": [
        "retencion = 1 - churn\n",
        "retencion"
      ],
      "metadata": {
        "colab": {
          "base_uri": "https://localhost:8080/"
        },
        "id": "pO5L7TGSpXqu",
        "outputId": "0d24f3c5-01d0-45db-e582-205afff6724c"
      },
      "execution_count": 14,
      "outputs": [
        {
          "output_type": "execute_result",
          "data": {
            "text/plain": [
              "0.8125"
            ]
          },
          "metadata": {},
          "execution_count": 14
        }
      ]
    },
    {
      "cell_type": "markdown",
      "source": [
        "# **ARPU**"
      ],
      "metadata": {
        "id": "rW2ikHYSpZgs"
      }
    },
    {
      "cell_type": "code",
      "source": [
        "transactions.createTempView('trans')\n",
        "rates.createTempView('rates')"
      ],
      "metadata": {
        "id": "wvlktetGp12R"
      },
      "execution_count": 15,
      "outputs": []
    },
    {
      "cell_type": "markdown",
      "source": [
        "Tomo el precio en USDT de cada moneda y lo uno a la tabla de transacciones"
      ],
      "metadata": {
        "id": "dGtFOtJLuSsM"
      }
    },
    {
      "cell_type": "code",
      "source": [
        "col = \"user_id, amount, transaction_type, currency, price\"\n",
        "trans = spark.sql((\"\"\"SELECT {} FROM trans AS t \n",
        "                  LEFT JOIN(SELECT base_currency, price FROM rates\n",
        "                  WHERE quote_currency = 'USDT') AS r ON t.currency = r.base_currency\"\"\"\n",
        "                  .format(col)))\n",
        "trans.show(5)"
      ],
      "metadata": {
        "colab": {
          "base_uri": "https://localhost:8080/"
        },
        "id": "W4VXTYmkp7yq",
        "outputId": "6306dd6e-de88-44a6-9021-50542fbab11d"
      },
      "execution_count": 38,
      "outputs": [
        {
          "output_type": "stream",
          "name": "stdout",
          "text": [
            "+-------+-------------+------------------+--------+-----+\n",
            "|user_id|       amount|  transaction_type|currency|price|\n",
            "+-------+-------------+------------------+--------+-----+\n",
            "|3222205| 100.02000000|       CRYPTO_SALE|   MONEY| null|\n",
            "|1058316|1060.00000000|LEMON_CARD_PAYMENT|   MONEY| null|\n",
            "|3245984| 349.27000000|       CRYPTO_SALE|   MONEY| null|\n",
            "|4430720|1440.00000000|LEMON_CARD_PAYMENT|   MONEY| null|\n",
            "|3193610| 100.00000000|   CRYPTO_PURCHASE|   MONEY| null|\n",
            "+-------+-------------+------------------+--------+-----+\n",
            "only showing top 5 rows\n",
            "\n"
          ]
        }
      ]
    },
    {
      "cell_type": "code",
      "source": [
        "trans = trans.withColumn('amount_usd',\n",
        "        f.when((f.col('currency') == 'MONEY')|(f.col('currency') == 'DAI')|\n",
        "               (f.col('currency') == 'USDT')|\n",
        "               (f.col('currency') == 'UST'),\n",
        "               f.col('amount')).otherwise(trans.amount * trans.price)\n",
        "        )\n",
        "trans.show(5)"
      ],
      "metadata": {
        "colab": {
          "base_uri": "https://localhost:8080/"
        },
        "id": "MCjzD9NQuYhc",
        "outputId": "0182710a-7192-46a4-fd8d-3465148d39a0"
      },
      "execution_count": 39,
      "outputs": [
        {
          "output_type": "stream",
          "name": "stdout",
          "text": [
            "+-------+-------------+------------------+--------+-----+-------------+\n",
            "|user_id|       amount|  transaction_type|currency|price|   amount_usd|\n",
            "+-------+-------------+------------------+--------+-----+-------------+\n",
            "|3222205| 100.02000000|       CRYPTO_SALE|   MONEY| null| 100.02000000|\n",
            "|1058316|1060.00000000|LEMON_CARD_PAYMENT|   MONEY| null|1060.00000000|\n",
            "|3245984| 349.27000000|       CRYPTO_SALE|   MONEY| null| 349.27000000|\n",
            "|4430720|1440.00000000|LEMON_CARD_PAYMENT|   MONEY| null|1440.00000000|\n",
            "|3193610| 100.00000000|   CRYPTO_PURCHASE|   MONEY| null| 100.00000000|\n",
            "+-------+-------------+------------------+--------+-----+-------------+\n",
            "only showing top 5 rows\n",
            "\n"
          ]
        }
      ]
    },
    {
      "cell_type": "markdown",
      "source": [
        "Identifico los distintos tipos de transacciones para luego calcular el revenue"
      ],
      "metadata": {
        "id": "J6Q3mb7Juny9"
      }
    },
    {
      "cell_type": "code",
      "source": [
        "transactions_type = spark.sql(\"SELECT DISTINCT(transaction_type) FROM trans\")\n",
        "transactions_type.show()"
      ],
      "metadata": {
        "colab": {
          "base_uri": "https://localhost:8080/"
        },
        "id": "E135UTC4uoFc",
        "outputId": "74f79772-4538-403d-94e6-f88ab92e8394"
      },
      "execution_count": 31,
      "outputs": [
        {
          "output_type": "stream",
          "name": "stdout",
          "text": [
            "+------------------+\n",
            "|  transaction_type|\n",
            "+------------------+\n",
            "|LEMON_CARD_PAYMENT|\n",
            "|VIRTUAL_WITHDRAWAL|\n",
            "|   VIRTUAL_DEPOSIT|\n",
            "|    CASH_IN_CRYPTO|\n",
            "|       CRYPTO_SALE|\n",
            "|       CRYPTO_SWAP|\n",
            "|   CRYPTO_PURCHASE|\n",
            "+------------------+\n",
            "\n"
          ]
        }
      ]
    },
    {
      "cell_type": "code",
      "source": [
        "trans = trans.withColumn('revenue_amount',\n",
        "        f.when(f.col('transaction_type') == 'CRYPTO_SWAP', trans.amount_usd * 0.01)\n",
        "          .otherwise(f.when(f.col('transaction_type') == 'CRYPTO_SALE', trans.amount_usd * 0.02)\n",
        "            .otherwise(f.when(f.col('transaction_type') == 'CRYPTO_PURCHASE', trans.amount_usd * 0.02)\n",
        "              .otherwise(f.when(f.col('transaction_type') == 'LEMON_CARD_PAYMENT', trans.amount_usd * 0.05)\n",
        "                .otherwise(0)))))\n",
        "trans.show(5)"
      ],
      "metadata": {
        "colab": {
          "base_uri": "https://localhost:8080/"
        },
        "id": "-f-LBnAFurDx",
        "outputId": "c081a49c-7fe0-4956-8a3c-cfe76faa193c"
      },
      "execution_count": 32,
      "outputs": [
        {
          "output_type": "stream",
          "name": "stdout",
          "text": [
            "+-------+-------------+------------------+--------+-----+-------------+-----------------+\n",
            "|user_id|       amount|  transaction_type|currency|price|   amount_usd|   revenue_amount|\n",
            "+-------+-------------+------------------+--------+-----+-------------+-----------------+\n",
            "|3222205| 100.02000000|       CRYPTO_SALE|   MONEY| null| 100.02000000|           2.0004|\n",
            "|1058316|1060.00000000|LEMON_CARD_PAYMENT|   MONEY| null|1060.00000000|             53.0|\n",
            "|3245984| 349.27000000|       CRYPTO_SALE|   MONEY| null| 349.27000000|6.985399999999999|\n",
            "|4430720|1440.00000000|LEMON_CARD_PAYMENT|   MONEY| null|1440.00000000|             72.0|\n",
            "|3193610| 100.00000000|   CRYPTO_PURCHASE|   MONEY| null| 100.00000000|              2.0|\n",
            "+-------+-------------+------------------+--------+-----+-------------+-----------------+\n",
            "only showing top 5 rows\n",
            "\n"
          ]
        }
      ]
    },
    {
      "cell_type": "markdown",
      "source": [
        "Revenue y Usuarios totales"
      ],
      "metadata": {
        "id": "JqF_H0w6utVC"
      }
    },
    {
      "cell_type": "code",
      "source": [
        "trans.createTempView('revenue_total')\n",
        "users.createTempView('usuarios_totales')"
      ],
      "metadata": {
        "id": "7YtMaZ1lut6d"
      },
      "execution_count": 33,
      "outputs": []
    },
    {
      "cell_type": "code",
      "source": [
        "revenue_total = spark.sql(\"SELECT SUM(revenue_amount) AS revenue_total FROM revenue_total\")\n",
        "revenue_total.show()"
      ],
      "metadata": {
        "colab": {
          "base_uri": "https://localhost:8080/"
        },
        "id": "jsugv1KouvIH",
        "outputId": "fc870b54-8811-4d46-8896-e699a0734c64"
      },
      "execution_count": 34,
      "outputs": [
        {
          "output_type": "stream",
          "name": "stdout",
          "text": [
            "+-----------------+\n",
            "|    revenue_total|\n",
            "+-----------------+\n",
            "|461248.0122836366|\n",
            "+-----------------+\n",
            "\n"
          ]
        }
      ]
    },
    {
      "cell_type": "code",
      "source": [
        "usuarios_totales = spark.sql(\"SELECT COUNT(DISTINCT(user_id)) AS usuarios_totales FROM usuarios_totales\")\n",
        "usuarios_totales.show()"
      ],
      "metadata": {
        "colab": {
          "base_uri": "https://localhost:8080/"
        },
        "id": "4zzi8DcouzIX",
        "outputId": "0747d11d-7c54-4105-d347-74ca84dff67b"
      },
      "execution_count": 35,
      "outputs": [
        {
          "output_type": "stream",
          "name": "stdout",
          "text": [
            "+----------------+\n",
            "|usuarios_totales|\n",
            "+----------------+\n",
            "|           50000|\n",
            "+----------------+\n",
            "\n"
          ]
        }
      ]
    },
    {
      "cell_type": "markdown",
      "source": [
        "ARPU"
      ],
      "metadata": {
        "id": "Me2ModlWu8pN"
      }
    },
    {
      "cell_type": "code",
      "source": [
        "r_tot = revenue_total.collect()[0][0]\n",
        "u_tot = usuarios_totales.collect()[0][0]\n",
        "\n",
        "arpu = r_tot / u_tot\n",
        "arpu"
      ],
      "metadata": {
        "colab": {
          "base_uri": "https://localhost:8080/"
        },
        "id": "XOxM-Iksu91H",
        "outputId": "b8c2decb-a44a-4219-ed2a-aed70ced04ea"
      },
      "execution_count": 36,
      "outputs": [
        {
          "output_type": "execute_result",
          "data": {
            "text/plain": [
              "9.224960245672731"
            ]
          },
          "metadata": {},
          "execution_count": 36
        }
      ]
    },
    {
      "cell_type": "markdown",
      "source": [
        "# **LTV**"
      ],
      "metadata": {
        "id": "3Tm41GH8vAD_"
      }
    },
    {
      "cell_type": "code",
      "source": [
        "LTV = arpu / churn\n",
        "LTV"
      ],
      "metadata": {
        "colab": {
          "base_uri": "https://localhost:8080/"
        },
        "id": "O3p7GWWgvBki",
        "outputId": "6bceade9-37cc-4119-881e-56132b71eb4d"
      },
      "execution_count": 37,
      "outputs": [
        {
          "output_type": "execute_result",
          "data": {
            "text/plain": [
              "49.199787976921236"
            ]
          },
          "metadata": {},
          "execution_count": 37
        }
      ]
    }
  ]
}